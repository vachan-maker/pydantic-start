{
 "cells": [
  {
   "cell_type": "code",
   "execution_count": 2,
   "id": "7033bf2f",
   "metadata": {},
   "outputs": [],
   "source": [
    "import pydantic"
   ]
  },
  {
   "cell_type": "code",
   "execution_count": 3,
   "id": "6cb0823f",
   "metadata": {},
   "outputs": [
    {
     "ename": "AttributeError",
     "evalue": "type object 'str' has no attribute '__name___'",
     "output_type": "error",
     "traceback": [
      "\u001b[31m---------------------------------------------------------------------------\u001b[39m",
      "\u001b[31mAttributeError\u001b[39m                            Traceback (most recent call last)",
      "\u001b[36mCell\u001b[39m\u001b[36m \u001b[39m\u001b[32mIn[3]\u001b[39m\u001b[32m, line 12\u001b[39m\n\u001b[32m     10\u001b[39m         \u001b[38;5;28mself\u001b[39m.name = name\n\u001b[32m     11\u001b[39m \u001b[38;5;28;01mtry\u001b[39;00m:\n\u001b[32m---> \u001b[39m\u001b[32m12\u001b[39m     user = \u001b[43mUser\u001b[49m\u001b[43m(\u001b[49m\u001b[38;5;28;43mid\u001b[39;49m\u001b[43m=\u001b[49m\u001b[33;43m'\u001b[39;49m\u001b[33;43m123\u001b[39;49m\u001b[33;43m'\u001b[39;49m\u001b[43m)\u001b[49m\n\u001b[32m     13\u001b[39m \u001b[38;5;28;01mexcept\u001b[39;00m \u001b[38;5;167;01mTypeError\u001b[39;00m:\n\u001b[32m     14\u001b[39m     \u001b[38;5;28mprint\u001b[39m(\u001b[33m\"\u001b[39m\u001b[33mType Error\u001b[39m\u001b[33m\"\u001b[39m)\n",
      "\u001b[36mCell\u001b[39m\u001b[36m \u001b[39m\u001b[32mIn[3]\u001b[39m\u001b[32m, line 5\u001b[39m, in \u001b[36mUser.__init__\u001b[39m\u001b[34m(self, id, name)\u001b[39m\n\u001b[32m      3\u001b[39m \u001b[38;5;28;01mdef\u001b[39;00m\u001b[38;5;250m \u001b[39m\u001b[34m__init__\u001b[39m(\u001b[38;5;28mself\u001b[39m,\u001b[38;5;28mid\u001b[39m: \u001b[38;5;28mint\u001b[39m, name=\u001b[33m'\u001b[39m\u001b[33mJane Doe\u001b[39m\u001b[33m'\u001b[39m):\n\u001b[32m      4\u001b[39m     \u001b[38;5;28;01mif\u001b[39;00m \u001b[38;5;129;01mnot\u001b[39;00m \u001b[38;5;28misinstance\u001b[39m(\u001b[38;5;28mid\u001b[39m,\u001b[38;5;28mint\u001b[39m):\n\u001b[32m----> \u001b[39m\u001b[32m5\u001b[39m         \u001b[38;5;28;01mraise\u001b[39;00m \u001b[38;5;167;01mTypeError\u001b[39;00m(\u001b[33mf\u001b[39m\u001b[33m'\u001b[39m\u001b[33mExpected id to be an int, got \u001b[39m\u001b[38;5;132;01m{\u001b[39;00m\u001b[38;5;28;43mtype\u001b[39;49m\u001b[43m(\u001b[49m\u001b[38;5;28;43mid\u001b[39;49m\u001b[43m)\u001b[49m\u001b[43m.\u001b[49m\u001b[43m__name___\u001b[49m\u001b[38;5;132;01m}\u001b[39;00m\u001b[33m'\u001b[39m)\n\u001b[32m      6\u001b[39m     \u001b[38;5;28;01mif\u001b[39;00m \u001b[38;5;129;01mnot\u001b[39;00m \u001b[38;5;28misinstance\u001b[39m(name,\u001b[38;5;28mstr\u001b[39m):\n\u001b[32m      7\u001b[39m         \u001b[38;5;28;01mraise\u001b[39;00m \u001b[38;5;167;01mTypeError\u001b[39;00m(\u001b[33mf\u001b[39m\u001b[33m'\u001b[39m\u001b[33mExpected name to be a str, got \u001b[39m\u001b[38;5;132;01m{\u001b[39;00m\u001b[38;5;28mtype\u001b[39m(name).\u001b[34m__name__\u001b[39m\u001b[38;5;132;01m}\u001b[39;00m\u001b[33m'\u001b[39m)\n",
      "\u001b[31mAttributeError\u001b[39m: type object 'str' has no attribute '__name___'"
     ]
    }
   ],
   "source": [
    "# Type validation without using pydantic\n",
    "class User:\n",
    "    def __init__(self,id: int, name='Jane Doe'):\n",
    "        if not isinstance(id,int):\n",
    "            raise TypeError(f'Expected id to be an int, got {type(id).__name___}')\n",
    "        if not isinstance(name,str):\n",
    "            raise TypeError(f'Expected name to be a str, got {type(name).__name__}')\n",
    "        \n",
    "        self.id = id\n",
    "        self.name = name\n",
    "try:\n",
    "    user = User(id='123')\n",
    "except TypeError:\n",
    "    print(\"Type Error\")"
   ]
  },
  {
   "cell_type": "code",
   "execution_count": 4,
   "id": "89db8a6a",
   "metadata": {},
   "outputs": [],
   "source": [
    "from pydantic import BaseModel\n",
    "\n",
    "class User(BaseModel):\n",
    "    id: int\n",
    "    name: str = 'Jane Doe'"
   ]
  },
  {
   "cell_type": "code",
   "execution_count": 8,
   "id": "e0c7e0c9",
   "metadata": {},
   "outputs": [
    {
     "name": "stdout",
     "output_type": "stream",
     "text": [
      "123\n"
     ]
    }
   ],
   "source": [
    "user = User(id='123') #parses string to integer \n",
    "print(user.id)"
   ]
  },
  {
   "cell_type": "code",
   "execution_count": 11,
   "id": "0d83fa41",
   "metadata": {},
   "outputs": [
    {
     "name": "stdout",
     "output_type": "stream",
     "text": [
      "{'id'}\n",
      "{\"id\":123,\"name\":\"Jane Doe\"}\n",
      "{'id': 123, 'name': 'Jane Doe'}\n"
     ]
    }
   ],
   "source": [
    "print(user.model_fields_set)\n",
    "print(user.model_dump_json()) #prints json notation\n",
    "print(user.model_dump()) # prints it as a dictionary notation"
   ]
  },
  {
   "cell_type": "markdown",
   "id": "5e3e7deb",
   "metadata": {},
   "source": [
    "# Nested Model"
   ]
  },
  {
   "cell_type": "code",
   "execution_count": null,
   "id": "30a7dd8d",
   "metadata": {},
   "outputs": [],
   "source": [
    "from typing import List, Optional\n",
    "from pydantic import BaseModel\n",
    "\n",
    "class Food(BaseModel):\n",
    "    name: str\n",
    "    price: float\n",
    "    ingredients: Optional[List[str]] = None\n",
    "\n",
    "class Restaurant(BaseModel):\n",
    "    name: str\n",
    "    location: str\n",
    "    foods: List[Food]\n",
    "\n",
    "restaurant_instance = Restaurant(\n",
    "    name=\"Tasty bites\",\n",
    "    location=\"California\",\n",
    "    foods=[\n",
    "        {\"name\":\"Cheese Pizza\", \"price\":12.20,\"ingredients\":[\"Cheese\",\"Tomato Sauce\",\"Pepperoni\"]}\n",
    "    ]\n",
    ")\n",
    "\n",
    "print(restaurant_instance.model_dump())\n",
    "print(restaurant_instance.model_dump_json())\n"
   ]
  }
 ],
 "metadata": {
  "kernelspec": {
   "display_name": "Python 3",
   "language": "python",
   "name": "python3"
  },
  "language_info": {
   "codemirror_mode": {
    "name": "ipython",
    "version": 3
   },
   "file_extension": ".py",
   "mimetype": "text/x-python",
   "name": "python",
   "nbconvert_exporter": "python",
   "pygments_lexer": "ipython3",
   "version": "3.13.3"
  }
 },
 "nbformat": 4,
 "nbformat_minor": 5
}
