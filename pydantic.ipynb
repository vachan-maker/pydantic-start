{
 "cells": [
  {
   "cell_type": "code",
   "execution_count": 1,
   "id": "7033bf2f",
   "metadata": {},
   "outputs": [],
   "source": [
    "import pydantic"
   ]
  },
  {
   "cell_type": "code",
   "execution_count": null,
   "id": "6cb0823f",
   "metadata": {},
   "outputs": [],
   "source": [
    "# Type validation without using pydantic\n",
    "class User:\n",
    "    def __init__(self,id: int, name='Jane Doe'):\n",
    "        if not isinstance(id,int):\n",
    "            raise TypeError(f'Expected id to be an int, got {type(id).__name___}')\n",
    "        if not isinstance(name,str):\n",
    "            raise TypeError(f'Expected name to be a str, got {type(name).__name__}')\n",
    "        \n",
    "        self.id = id\n",
    "        self.name = name\n",
    "try:\n",
    "    user = User(id='123')\n",
    "except TypeError:\n",
    "    print(\"Type Error\")"
   ]
  }
 ],
 "metadata": {
  "kernelspec": {
   "display_name": "Python 3",
   "language": "python",
   "name": "python3"
  },
  "language_info": {
   "name": "python",
   "version": "3.13.3"
  }
 },
 "nbformat": 4,
 "nbformat_minor": 5
}
